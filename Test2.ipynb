{
 "cells": [
  {
   "cell_type": "code",
   "execution_count": 1,
   "id": "3c19ec94",
   "metadata": {},
   "outputs": [],
   "source": [
    "from wrangle import *"
   ]
  },
  {
   "cell_type": "code",
   "execution_count": 2,
   "id": "7ba85c52",
   "metadata": {},
   "outputs": [
    {
     "name": "stderr",
     "output_type": "stream",
     "text": [
      "/Users/dusts/codeup-data-science/individual-project/wrangle.py:328: SettingWithCopyWarning: \n",
      "A value is trying to be set on a copy of a slice from a DataFrame.\n",
      "Try using .loc[row_indexer,col_indexer] = value instead\n",
      "\n",
      "See the caveats in the documentation: https://pandas.pydata.org/pandas-docs/stable/user_guide/indexing.html#returning-a-view-versus-a-copy\n",
      "  hot_100_2000_2020[\"song_index\"] = hot_100_2000_2020[\"performer\"].str.lower() + \" - \" + hot_100_2000_2020[\"song\"].str.lower()\n",
      "/Users/dusts/codeup-data-science/individual-project/wrangle.py:331: SettingWithCopyWarning: \n",
      "A value is trying to be set on a copy of a slice from a DataFrame.\n",
      "Try using .loc[row_indexer,col_indexer] = value instead\n",
      "\n",
      "See the caveats in the documentation: https://pandas.pydata.org/pandas-docs/stable/user_guide/indexing.html#returning-a-view-versus-a-copy\n",
      "  hot_100_2000_2020['date'] = hot_100_2000_2020.index\n",
      "/Users/dusts/codeup-data-science/individual-project/wrangle.py:364: FutureWarning: The default value of regex will change from True to False in a future version.\n",
      "  merged_hot100_only_latest['song'] = merged_hot100_only_latest['song'].str.replace('[^0-9a-z - A-Z]', '')\n",
      "/Users/dusts/codeup-data-science/individual-project/wrangle.py:368: FutureWarning: The default value of regex will change from True to False in a future version.\n",
      "  merged_hot100_only_latest['song_index'] = merged_hot100_only_latest['song_index'].str.replace('[^0-9a-z-A-Z]', '')\n",
      "/Users/dusts/codeup-data-science/individual-project/wrangle.py:369: FutureWarning: The default value of regex will change from True to False in a future version. In addition, single character regular expressions will *not* be treated as literal strings when regex=True.\n",
      "  merged_hot100_only_latest['song_index'] = merged_hot100_only_latest['song_index'].str.replace('*', '')\n",
      "/Users/dusts/codeup-data-science/individual-project/wrangle.py:378: FutureWarning: The default value of regex will change from True to False in a future version.\n",
      "  spotify_popular['song'] = spotify_popular['song'].str.replace('[^0-9a-z - A-Z]', '')\n",
      "/Users/dusts/codeup-data-science/individual-project/wrangle.py:380: FutureWarning: The default value of regex will change from True to False in a future version.\n",
      "  spotify_popular['song_index'] = spotify_popular['song_index'].str.replace('[^0-9a-z-A-Z]', '')\n",
      "/Users/dusts/codeup-data-science/individual-project/wrangle.py:381: FutureWarning: The default value of regex will change from True to False in a future version. In addition, single character regular expressions will *not* be treated as literal strings when regex=True.\n",
      "  spotify_popular['song_index'] = spotify_popular['song_index'].str.replace('*', '')\n",
      "/Users/dusts/codeup-data-science/individual-project/wrangle.py:389: SettingWithCopyWarning: \n",
      "A value is trying to be set on a copy of a slice from a DataFrame\n",
      "\n",
      "See the caveats in the documentation: https://pandas.pydata.org/pandas-docs/stable/user_guide/indexing.html#returning-a-view-versus-a-copy\n",
      "  merged_data_non_nulls.rename(columns = {'song_x':'song'}, inplace = True)\n"
     ]
    }
   ],
   "source": [
    "df = acquire()"
   ]
  },
  {
   "cell_type": "code",
   "execution_count": 4,
   "id": "14ff7ab4",
   "metadata": {},
   "outputs": [
    {
     "data": {
      "text/plain": [
       "Index(['artist', 'song', 'duration_ms', 'explicit', 'year', 'popularity',\n",
       "       'danceability', 'energy', 'key', 'loudness', 'mode', 'speechiness',\n",
       "       'acousticness', 'instrumentalness', 'liveness', 'valence', 'tempo',\n",
       "       'genre', 'chart_position', 'song_id', 'instance', 'time_on_chart',\n",
       "       'consecutive_weeks', 'previous_week', 'peak_position', 'worst_position',\n",
       "       'chart_debut', 'chart_url', 'date'],\n",
       "      dtype='object')"
      ]
     },
     "execution_count": 4,
     "metadata": {},
     "output_type": "execute_result"
    }
   ],
   "source": [
    "df.columns"
   ]
  }
 ],
 "metadata": {
  "kernelspec": {
   "display_name": "Python 3 (ipykernel)",
   "language": "python",
   "name": "python3"
  },
  "language_info": {
   "codemirror_mode": {
    "name": "ipython",
    "version": 3
   },
   "file_extension": ".py",
   "mimetype": "text/x-python",
   "name": "python",
   "nbconvert_exporter": "python",
   "pygments_lexer": "ipython3",
   "version": "3.9.15"
  }
 },
 "nbformat": 4,
 "nbformat_minor": 5
}

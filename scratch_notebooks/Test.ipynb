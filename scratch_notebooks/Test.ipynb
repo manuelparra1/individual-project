{
 "cells": [
  {
   "cell_type": "markdown",
   "id": "d3051758",
   "metadata": {},
   "source": [
    "# Spotify + Billboard Hot 100"
   ]
  },
  {
   "cell_type": "markdown",
   "id": "a8b747eb",
   "metadata": {},
   "source": [
    "[Imports](#imports) - [Definitions](#definitions) - [Acquire](#acquire) - [Explore](#explore)  -  [Model](#model)  -  [Evaluate](#evaluate)  -  [Test](#test)  -  [Summary](#summary)  -  [Take Aways](#takeaways)"
   ]
  },
  {
   "cell_type": "code",
   "execution_count": 2,
   "id": "5e8617f7",
   "metadata": {},
   "outputs": [],
   "source": [
    "from wrangle import *"
   ]
  },
  {
   "cell_type": "markdown",
   "id": "d0d7e0b7",
   "metadata": {},
   "source": [
    "# Acquire <a id=\"acquire\"></a>"
   ]
  },
  {
   "cell_type": "markdown",
   "id": "c6fa19ba",
   "metadata": {},
   "source": [
    "[Imports](#imports) - [Definitions](#definitions) - [Acquire](#acquire) - [Explore](#explore)  -  [Model](#model)  -  [Evaluate](#evaluate)  -  [Test](#test)  -  [Summary](#summary)  -  [Take Aways](#takeaways)"
   ]
  },
  {
   "cell_type": "code",
   "execution_count": 3,
   "id": "1dd60848",
   "metadata": {},
   "outputs": [
    {
     "name": "stdout",
     "output_type": "stream",
     "text": [
      "Found File\n"
     ]
    },
    {
     "name": "stderr",
     "output_type": "stream",
     "text": [
      "Loading merged_data_non_nulls.csv: 2it [00:00, 204.18it/s]\n"
     ]
    }
   ],
   "source": [
    "df = load_csv_file(\"merged_data_non_nulls.csv\")"
   ]
  },
  {
   "cell_type": "code",
   "execution_count": 4,
   "id": "48a59ba3",
   "metadata": {},
   "outputs": [],
   "source": [
    "df = df.drop(columns = ['chart_position', 'instance','popularity',\n",
    "       'consecutive_weeks', 'previous_week', 'peak_position',\n",
    "       'worst_position'])"
   ]
  },
  {
   "cell_type": "code",
   "execution_count": 22,
   "id": "649a32a2",
   "metadata": {},
   "outputs": [
    {
     "name": "stdout",
     "output_type": "stream",
     "text": [
      "(626, 22) (269, 22) (224, 22)\n"
     ]
    }
   ],
   "source": [
    "train, val, test = split_data(df)"
   ]
  },
  {
   "cell_type": "code",
   "execution_count": 23,
   "id": "1a66494d",
   "metadata": {},
   "outputs": [],
   "source": [
    "target = \"time_on_chart\""
   ]
  },
  {
   "cell_type": "code",
   "execution_count": 26,
   "id": "fa2934ff",
   "metadata": {},
   "outputs": [
    {
     "name": "stdout",
     "output_type": "stream",
     "text": [
      "(626, 21) (626,)\n",
      "(269, 21) (269,)\n",
      "(224, 21) (224,)\n"
     ]
    }
   ],
   "source": [
    "X_train, y_train = isolate_target(train,target)\n",
    "X_validate, y_validate = isolate_target(val,target)\n",
    "X_test, y_test = isolate_target(test,target)"
   ]
  },
  {
   "cell_type": "code",
   "execution_count": 27,
   "id": "681e982d",
   "metadata": {},
   "outputs": [],
   "source": [
    "X_train_scaled = scale_data(X_train)\n",
    "X_validate_scaled = scale_data(X_validate)\n",
    "X_test_scaled = scale_data(X_test)"
   ]
  },
  {
   "cell_type": "code",
   "execution_count": 28,
   "id": "d6fb0adb",
   "metadata": {},
   "outputs": [],
   "source": [
    "to_dummies=['explicit']"
   ]
  },
  {
   "cell_type": "code",
   "execution_count": 29,
   "id": "ac43e5e2",
   "metadata": {},
   "outputs": [],
   "source": [
    "X_train_scaled = dummies(X_train_scaled,to_dummies)\n",
    "X_validate_scaled = dummies(X_validate_scaled,to_dummies)\n",
    "X_test_scaled = dummies(X_test_scaled,to_dummies)"
   ]
  },
  {
   "cell_type": "code",
   "execution_count": 30,
   "id": "15040e30",
   "metadata": {},
   "outputs": [
    {
     "data": {
      "text/plain": [
       "Index(['duration_ms', 'explicit', 'year', 'danceability', 'energy', 'key',\n",
       "       'loudness', 'mode', 'speechiness', 'acousticness', 'instrumentalness',\n",
       "       'liveness', 'valence', 'tempo'],\n",
       "      dtype='object')"
      ]
     },
     "execution_count": 30,
     "metadata": {},
     "output_type": "execute_result"
    }
   ],
   "source": [
    "X_train_scaled.columns"
   ]
  },
  {
   "cell_type": "code",
   "execution_count": 31,
   "id": "e0226eb2",
   "metadata": {},
   "outputs": [
    {
     "data": {
      "text/plain": [
       "['explicit', 'year', 'mode', 'speechiness']"
      ]
     },
     "execution_count": 31,
     "metadata": {},
     "output_type": "execute_result"
    }
   ],
   "source": [
    "# parameters: f_regression stats test, give me 8 features\n",
    "f_selector = SelectKBest(f_regression, k=4)\n",
    "\n",
    "# find the top 8 X's correlated with y\n",
    "f_selector.fit(X_train_scaled, y_train)\n",
    "\n",
    "# boolean mask of whether the column was selected or not. \n",
    "feature_mask = f_selector.get_support()\n",
    "\n",
    "# get list of top K features. \n",
    "f_feature = X_train_scaled.iloc[:,feature_mask].columns.tolist()\n",
    "f_feature"
   ]
  },
  {
   "cell_type": "code",
   "execution_count": 32,
   "id": "098d2e0b",
   "metadata": {},
   "outputs": [
    {
     "data": {
      "text/plain": [
       "['duration_ms', 'energy', 'loudness', 'valence']"
      ]
     },
     "execution_count": 32,
     "metadata": {},
     "output_type": "execute_result"
    }
   ],
   "source": [
    "# initialize the ML algorithm\n",
    "lm = LinearRegression()\n",
    "\n",
    "# create the rfe object, indicating the ML object (lm) and the number of features I want to end up with. \n",
    "rfe = RFE(lm, n_features_to_select=4)\n",
    "\n",
    "# fit the data using RFE\n",
    "rfe.fit(X_train_scaled, y_train)\n",
    "\n",
    "# get the mask of the columns selected\n",
    "feature_mask = rfe.support_\n",
    "\n",
    "# get list of the column names. \n",
    "rfe_feature = X_train_scaled.iloc[:,feature_mask].columns.tolist()\n",
    "rfe_feature"
   ]
  },
  {
   "cell_type": "code",
   "execution_count": 33,
   "id": "69bac464",
   "metadata": {},
   "outputs": [
    {
     "data": {
      "text/html": [
       "<div>\n",
       "<style scoped>\n",
       "    .dataframe tbody tr th:only-of-type {\n",
       "        vertical-align: middle;\n",
       "    }\n",
       "\n",
       "    .dataframe tbody tr th {\n",
       "        vertical-align: top;\n",
       "    }\n",
       "\n",
       "    .dataframe thead th {\n",
       "        text-align: right;\n",
       "    }\n",
       "</style>\n",
       "<table border=\"1\" class=\"dataframe\">\n",
       "  <thead>\n",
       "    <tr style=\"text-align: right;\">\n",
       "      <th></th>\n",
       "      <th>Var</th>\n",
       "      <th>Rank</th>\n",
       "    </tr>\n",
       "  </thead>\n",
       "  <tbody>\n",
       "    <tr>\n",
       "      <th>0</th>\n",
       "      <td>duration_ms</td>\n",
       "      <td>1</td>\n",
       "    </tr>\n",
       "    <tr>\n",
       "      <th>4</th>\n",
       "      <td>energy</td>\n",
       "      <td>1</td>\n",
       "    </tr>\n",
       "    <tr>\n",
       "      <th>6</th>\n",
       "      <td>loudness</td>\n",
       "      <td>1</td>\n",
       "    </tr>\n",
       "    <tr>\n",
       "      <th>12</th>\n",
       "      <td>valence</td>\n",
       "      <td>1</td>\n",
       "    </tr>\n",
       "    <tr>\n",
       "      <th>9</th>\n",
       "      <td>acousticness</td>\n",
       "      <td>2</td>\n",
       "    </tr>\n",
       "    <tr>\n",
       "      <th>2</th>\n",
       "      <td>year</td>\n",
       "      <td>3</td>\n",
       "    </tr>\n",
       "    <tr>\n",
       "      <th>1</th>\n",
       "      <td>explicit</td>\n",
       "      <td>4</td>\n",
       "    </tr>\n",
       "    <tr>\n",
       "      <th>10</th>\n",
       "      <td>instrumentalness</td>\n",
       "      <td>5</td>\n",
       "    </tr>\n",
       "    <tr>\n",
       "      <th>7</th>\n",
       "      <td>mode</td>\n",
       "      <td>6</td>\n",
       "    </tr>\n",
       "    <tr>\n",
       "      <th>8</th>\n",
       "      <td>speechiness</td>\n",
       "      <td>7</td>\n",
       "    </tr>\n",
       "    <tr>\n",
       "      <th>5</th>\n",
       "      <td>key</td>\n",
       "      <td>8</td>\n",
       "    </tr>\n",
       "    <tr>\n",
       "      <th>11</th>\n",
       "      <td>liveness</td>\n",
       "      <td>9</td>\n",
       "    </tr>\n",
       "    <tr>\n",
       "      <th>13</th>\n",
       "      <td>tempo</td>\n",
       "      <td>10</td>\n",
       "    </tr>\n",
       "    <tr>\n",
       "      <th>3</th>\n",
       "      <td>danceability</td>\n",
       "      <td>11</td>\n",
       "    </tr>\n",
       "  </tbody>\n",
       "</table>\n",
       "</div>"
      ],
      "text/plain": [
       "                 Var  Rank\n",
       "0        duration_ms     1\n",
       "4             energy     1\n",
       "6           loudness     1\n",
       "12           valence     1\n",
       "9       acousticness     2\n",
       "2               year     3\n",
       "1           explicit     4\n",
       "10  instrumentalness     5\n",
       "7               mode     6\n",
       "8        speechiness     7\n",
       "5                key     8\n",
       "11          liveness     9\n",
       "13             tempo    10\n",
       "3       danceability    11"
      ]
     },
     "execution_count": 33,
     "metadata": {},
     "output_type": "execute_result"
    }
   ],
   "source": [
    "# view list of columns and their ranking\n",
    "\n",
    "# get the ranks\n",
    "var_ranks = rfe.ranking_\n",
    "# get the variable names\n",
    "var_names = X_train_scaled.columns.tolist()\n",
    "# combine ranks and names into a df for clean viewing\n",
    "rfe_ranks_df = pd.DataFrame({'Var': var_names, 'Rank': var_ranks})\n",
    "# sort the df by rank\n",
    "rfe_ranks_df.sort_values('Rank')"
   ]
  },
  {
   "cell_type": "code",
   "execution_count": 34,
   "id": "7e5d650c",
   "metadata": {},
   "outputs": [],
   "source": [
    "# Keeping Rank >= 7\n",
    "modeling_features = rfe_ranks_df[rfe_ranks_df['Rank']<=7].sort_values('Rank')\n",
    "modeling_features = [modeling_features.iloc[i][0] for i in range(10)]\n",
    "modeling_features.append(to_dummies)\n",
    "modeling_features = flatten(modeling_features)"
   ]
  },
  {
   "cell_type": "code",
   "execution_count": 35,
   "id": "b6369c2c",
   "metadata": {},
   "outputs": [],
   "source": [
    "# masking unnecessary features after RFE\n",
    "X_train_scaled = X_train_scaled[modeling_features]\n",
    "X_validate_scaled = X_validate_scaled[modeling_features]\n",
    "X_test_scaled = X_test_scaled[modeling_features]"
   ]
  },
  {
   "cell_type": "code",
   "execution_count": 63,
   "id": "6451fd34",
   "metadata": {},
   "outputs": [],
   "source": [
    "# Baseline\n",
    "preds = pd.DataFrame()\n",
    "preds['actual'] = y_train\n",
    "preds['baseline'] = y_train.mean()"
   ]
  },
  {
   "cell_type": "code",
   "execution_count": 38,
   "id": "6d0473b0",
   "metadata": {},
   "outputs": [],
   "source": [
    "# Linear Model\n",
    "lm = LinearRegression()\n",
    "lm.fit(X_train_scaled, y_train)\n",
    "preds['linear'] = lm.predict(X_train_scaled)"
   ]
  },
  {
   "cell_type": "code",
   "execution_count": null,
   "id": "4474a946",
   "metadata": {},
   "outputs": [],
   "source": [
    "# Specific Scaling for Lasso Lars\n",
    "X_train_lasso_scale = scale_data(X_train,mode=\"standard\")\n",
    "X_train_lasso_scale = dummies(X_train_lasso_scale,to_dummies)"
   ]
  },
  {
   "cell_type": "code",
   "execution_count": 87,
   "id": "f4c51224",
   "metadata": {},
   "outputs": [],
   "source": [
    "# Validate & Test\n",
    "X_validate_lasso_scale = scale_data(X_validate,mode=\"standard\")\n",
    "X_test_lasso_scale = scale_data(X_test,mode=\"standard\")\n",
    "\n",
    "X_validate_lasso_scale = dummies(X_validate_lasso_scale,to_dummies)\n",
    "X_test_lasso_scale = dummies(X_test_lasso_scale,to_dummies)\n",
    "# Finished Product\n",
    "# ================================================================\n",
    "X_validate_lasso_scale = X_validate_lasso_scale[modeling_features]\n",
    "X_test_lasso_scale = X_test_lasso_scale[modeling_features]"
   ]
  },
  {
   "cell_type": "code",
   "execution_count": 39,
   "id": "5042e7ef",
   "metadata": {},
   "outputs": [
    {
     "name": "stderr",
     "output_type": "stream",
     "text": [
      "/opt/homebrew/anaconda3/lib/python3.9/site-packages/sklearn/linear_model/_base.py:133: FutureWarning: The default of 'normalize' will be set to False in version 1.2 and deprecated in version 1.4.\n",
      "If you wish to scale the data, use Pipeline with a StandardScaler in a preprocessing stage. To reproduce the previous behavior:\n",
      "\n",
      "from sklearn.pipeline import make_pipeline\n",
      "\n",
      "model = make_pipeline(StandardScaler(with_mean=False), LassoLars())\n",
      "\n",
      "If you wish to pass a sample_weight parameter, you need to pass it as a fit parameter to each step of the pipeline as follows:\n",
      "\n",
      "kwargs = {s[0] + '__sample_weight': sample_weight for s in model.steps}\n",
      "model.fit(X, y, **kwargs)\n",
      "\n",
      "Set parameter alpha to: original_alpha * np.sqrt(n_samples). \n",
      "  warnings.warn(\n"
     ]
    }
   ],
   "source": [
    "# Lasso Lars Model\n",
    "lars = LassoLars(alpha=1.0)\n",
    "lars.fit(X_train_lasso_scale, y_train)\n",
    "preds['lasso_lars'] = lars.predict(X_train_lasso_scale)"
   ]
  },
  {
   "cell_type": "code",
   "execution_count": 40,
   "id": "2ee08989",
   "metadata": {},
   "outputs": [],
   "source": [
    "# Tweedie Model\n",
    "glm = TweedieRegressor(power=1, alpha=0)\n",
    "glm.fit(X_train_scaled, y_train)\n",
    "preds['Tweedie'] = glm.predict(X_train_scaled)"
   ]
  },
  {
   "cell_type": "code",
   "execution_count": 56,
   "id": "e406e5d3",
   "metadata": {},
   "outputs": [],
   "source": [
    "score_chart = pd.DataFrame({'model':['baseline','linear','lasso_lars','Tweedie'],'score':[baseline_rmse,linear_rmse,lasso_lars_rmse,tweedie_rmse]})"
   ]
  },
  {
   "cell_type": "code",
   "execution_count": 86,
   "id": "87cc4f7e",
   "metadata": {},
   "outputs": [
    {
     "data": {
      "image/png": "[encoded data removed]",
      "text/plain": [
       "<Figure size 640x480 with 1 Axes>"
      ]
     },
     "metadata": {},
     "output_type": "display_data"
    }
   ],
   "source": [
    "plt.bar(score_chart['model'],score_chart['score'],color=['grey', 'lightblue', 'lightblue', 'firebrick'])\n",
    "plt.axhline(y = score_chart[\"score\"].min(), color = 'firebrick', linestyle = '--')\n",
    "plt.title(\"Train - Model RMSE Scores\")\n",
    "plt.xlabel('Linear Models')\n",
    "plt.ylabel('Score')\n",
    "plt.show()"
   ]
  },
  {
   "cell_type": "markdown",
   "id": "d82e1aa0",
   "metadata": {},
   "source": [
    "# Validate"
   ]
  },
  {
   "cell_type": "code",
   "execution_count": 88,
   "id": "923715ac",
   "metadata": {},
   "outputs": [],
   "source": [
    "# Baseline\n",
    "validate_preds = pd.DataFrame()\n",
    "validate_preds['actual'] = y_validate\n",
    "validate_preds['baseline'] = y_validate.mean()"
   ]
  },
  {
   "cell_type": "code",
   "execution_count": 89,
   "id": "ec8d1866",
   "metadata": {},
   "outputs": [
    {
     "name": "stderr",
     "output_type": "stream",
     "text": [
      "/opt/homebrew/anaconda3/lib/python3.9/site-packages/sklearn/base.py:493: FutureWarning: The feature names should match those that were passed during fit. Starting version 1.2, an error will be raised.\n",
      "Feature names seen at fit time, yet now missing:\n",
      "- danceability\n",
      "- key\n",
      "- liveness\n",
      "- tempo\n",
      "\n",
      "  warnings.warn(message, FutureWarning)\n"
     ]
    },
    {
     "ename": "ValueError",
     "evalue": "X has 11 features, but LassoLars is expecting 14 features as input.",
     "output_type": "error",
     "traceback": [
      "\u001b[0;31m---------------------------------------------------------------------------\u001b[0m",
      "\u001b[0;31mValueError\u001b[0m                                Traceback (most recent call last)",
      "Cell \u001b[0;32mIn[89], line 2\u001b[0m\n\u001b[1;32m      1\u001b[0m validate_preds[\u001b[38;5;124m'\u001b[39m\u001b[38;5;124mlinear\u001b[39m\u001b[38;5;124m'\u001b[39m] \u001b[38;5;241m=\u001b[39m lm\u001b[38;5;241m.\u001b[39mpredict(X_validate_scaled)\n\u001b[0;32m----> 2\u001b[0m validate_preds[\u001b[38;5;124m'\u001b[39m\u001b[38;5;124mlasso_lars\u001b[39m\u001b[38;5;124m'\u001b[39m] \u001b[38;5;241m=\u001b[39m \u001b[43mlars\u001b[49m\u001b[38;5;241;43m.\u001b[39;49m\u001b[43mpredict\u001b[49m\u001b[43m(\u001b[49m\u001b[43mX_validate_lasso_scale\u001b[49m\u001b[43m)\u001b[49m\n\u001b[1;32m      3\u001b[0m validate_preds[\u001b[38;5;124m'\u001b[39m\u001b[38;5;124mTweedie\u001b[39m\u001b[38;5;124m'\u001b[39m] \u001b[38;5;241m=\u001b[39m glm\u001b[38;5;241m.\u001b[39mpredict(X_validate_scaled)\n",
      "File \u001b[0;32m/opt/homebrew/anaconda3/lib/python3.9/site-packages/sklearn/linear_model/_base.py:386\u001b[0m, in \u001b[0;36mLinearModel.predict\u001b[0;34m(self, X)\u001b[0m\n\u001b[1;32m    372\u001b[0m \u001b[38;5;28;01mdef\u001b[39;00m \u001b[38;5;21mpredict\u001b[39m(\u001b[38;5;28mself\u001b[39m, X):\n\u001b[1;32m    373\u001b[0m     \u001b[38;5;124;03m\"\"\"\u001b[39;00m\n\u001b[1;32m    374\u001b[0m \u001b[38;5;124;03m    Predict using the linear model.\u001b[39;00m\n\u001b[1;32m    375\u001b[0m \n\u001b[0;32m   (...)\u001b[0m\n\u001b[1;32m    384\u001b[0m \u001b[38;5;124;03m        Returns predicted values.\u001b[39;00m\n\u001b[1;32m    385\u001b[0m \u001b[38;5;124;03m    \"\"\"\u001b[39;00m\n\u001b[0;32m--> 386\u001b[0m     \u001b[38;5;28;01mreturn\u001b[39;00m \u001b[38;5;28;43mself\u001b[39;49m\u001b[38;5;241;43m.\u001b[39;49m\u001b[43m_decision_function\u001b[49m\u001b[43m(\u001b[49m\u001b[43mX\u001b[49m\u001b[43m)\u001b[49m\n",
      "File \u001b[0;32m/opt/homebrew/anaconda3/lib/python3.9/site-packages/sklearn/linear_model/_base.py:369\u001b[0m, in \u001b[0;36mLinearModel._decision_function\u001b[0;34m(self, X)\u001b[0m\n\u001b[1;32m    366\u001b[0m \u001b[38;5;28;01mdef\u001b[39;00m \u001b[38;5;21m_decision_function\u001b[39m(\u001b[38;5;28mself\u001b[39m, X):\n\u001b[1;32m    367\u001b[0m     check_is_fitted(\u001b[38;5;28mself\u001b[39m)\n\u001b[0;32m--> 369\u001b[0m     X \u001b[38;5;241m=\u001b[39m \u001b[38;5;28;43mself\u001b[39;49m\u001b[38;5;241;43m.\u001b[39;49m\u001b[43m_validate_data\u001b[49m\u001b[43m(\u001b[49m\u001b[43mX\u001b[49m\u001b[43m,\u001b[49m\u001b[43m \u001b[49m\u001b[43maccept_sparse\u001b[49m\u001b[38;5;241;43m=\u001b[39;49m\u001b[43m[\u001b[49m\u001b[38;5;124;43m\"\u001b[39;49m\u001b[38;5;124;43mcsr\u001b[39;49m\u001b[38;5;124;43m\"\u001b[39;49m\u001b[43m,\u001b[49m\u001b[43m \u001b[49m\u001b[38;5;124;43m\"\u001b[39;49m\u001b[38;5;124;43mcsc\u001b[39;49m\u001b[38;5;124;43m\"\u001b[39;49m\u001b[43m,\u001b[49m\u001b[43m \u001b[49m\u001b[38;5;124;43m\"\u001b[39;49m\u001b[38;5;124;43mcoo\u001b[39;49m\u001b[38;5;124;43m\"\u001b[39;49m\u001b[43m]\u001b[49m\u001b[43m,\u001b[49m\u001b[43m \u001b[49m\u001b[43mreset\u001b[49m\u001b[38;5;241;43m=\u001b[39;49m\u001b[38;5;28;43;01mFalse\u001b[39;49;00m\u001b[43m)\u001b[49m\n\u001b[1;32m    370\u001b[0m     \u001b[38;5;28;01mreturn\u001b[39;00m safe_sparse_dot(X, \u001b[38;5;28mself\u001b[39m\u001b[38;5;241m.\u001b[39mcoef_\u001b[38;5;241m.\u001b[39mT, dense_output\u001b[38;5;241m=\u001b[39m\u001b[38;5;28;01mTrue\u001b[39;00m) \u001b[38;5;241m+\u001b[39m \u001b[38;5;28mself\u001b[39m\u001b[38;5;241m.\u001b[39mintercept_\n",
      "File \u001b[0;32m/opt/homebrew/anaconda3/lib/python3.9/site-packages/sklearn/base.py:600\u001b[0m, in \u001b[0;36mBaseEstimator._validate_data\u001b[0;34m(self, X, y, reset, validate_separately, **check_params)\u001b[0m\n\u001b[1;32m    597\u001b[0m     out \u001b[38;5;241m=\u001b[39m X, y\n\u001b[1;32m    599\u001b[0m \u001b[38;5;28;01mif\u001b[39;00m \u001b[38;5;129;01mnot\u001b[39;00m no_val_X \u001b[38;5;129;01mand\u001b[39;00m check_params\u001b[38;5;241m.\u001b[39mget(\u001b[38;5;124m\"\u001b[39m\u001b[38;5;124mensure_2d\u001b[39m\u001b[38;5;124m\"\u001b[39m, \u001b[38;5;28;01mTrue\u001b[39;00m):\n\u001b[0;32m--> 600\u001b[0m     \u001b[38;5;28;43mself\u001b[39;49m\u001b[38;5;241;43m.\u001b[39;49m\u001b[43m_check_n_features\u001b[49m\u001b[43m(\u001b[49m\u001b[43mX\u001b[49m\u001b[43m,\u001b[49m\u001b[43m \u001b[49m\u001b[43mreset\u001b[49m\u001b[38;5;241;43m=\u001b[39;49m\u001b[43mreset\u001b[49m\u001b[43m)\u001b[49m\n\u001b[1;32m    602\u001b[0m \u001b[38;5;28;01mreturn\u001b[39;00m out\n",
      "File \u001b[0;32m/opt/homebrew/anaconda3/lib/python3.9/site-packages/sklearn/base.py:400\u001b[0m, in \u001b[0;36mBaseEstimator._check_n_features\u001b[0;34m(self, X, reset)\u001b[0m\n\u001b[1;32m    397\u001b[0m     \u001b[38;5;28;01mreturn\u001b[39;00m\n\u001b[1;32m    399\u001b[0m \u001b[38;5;28;01mif\u001b[39;00m n_features \u001b[38;5;241m!=\u001b[39m \u001b[38;5;28mself\u001b[39m\u001b[38;5;241m.\u001b[39mn_features_in_:\n\u001b[0;32m--> 400\u001b[0m     \u001b[38;5;28;01mraise\u001b[39;00m \u001b[38;5;167;01mValueError\u001b[39;00m(\n\u001b[1;32m    401\u001b[0m         \u001b[38;5;124mf\u001b[39m\u001b[38;5;124m\"\u001b[39m\u001b[38;5;124mX has \u001b[39m\u001b[38;5;132;01m{\u001b[39;00mn_features\u001b[38;5;132;01m}\u001b[39;00m\u001b[38;5;124m features, but \u001b[39m\u001b[38;5;132;01m{\u001b[39;00m\u001b[38;5;28mself\u001b[39m\u001b[38;5;241m.\u001b[39m\u001b[38;5;18m__class__\u001b[39m\u001b[38;5;241m.\u001b[39m\u001b[38;5;18m__name__\u001b[39m\u001b[38;5;132;01m}\u001b[39;00m\u001b[38;5;124m \u001b[39m\u001b[38;5;124m\"\u001b[39m\n\u001b[1;32m    402\u001b[0m         \u001b[38;5;124mf\u001b[39m\u001b[38;5;124m\"\u001b[39m\u001b[38;5;124mis expecting \u001b[39m\u001b[38;5;132;01m{\u001b[39;00m\u001b[38;5;28mself\u001b[39m\u001b[38;5;241m.\u001b[39mn_features_in_\u001b[38;5;132;01m}\u001b[39;00m\u001b[38;5;124m features as input.\u001b[39m\u001b[38;5;124m\"\u001b[39m\n\u001b[1;32m    403\u001b[0m     )\n",
      "\u001b[0;31mValueError\u001b[0m: X has 11 features, but LassoLars is expecting 14 features as input."
     ]
    }
   ],
   "source": [
    "validate_preds['linear'] = lm.predict(X_validate_scaled)\n",
    "validate_preds['lasso_lars'] = lars.predict(X_validate_lasso_scale)\n",
    "validate_preds['Tweedie'] = glm.predict(X_validate_scaled)"
   ]
  },
  {
   "cell_type": "code",
   "execution_count": 90,
   "id": "d332a9e1",
   "metadata": {},
   "outputs": [
    {
     "ename": "KeyError",
     "evalue": "'lasso_lars'",
     "output_type": "error",
     "traceback": [
      "\u001b[0;31m---------------------------------------------------------------------------\u001b[0m",
      "\u001b[0;31mKeyError\u001b[0m                                  Traceback (most recent call last)",
      "File \u001b[0;32m/opt/homebrew/anaconda3/lib/python3.9/site-packages/pandas/core/indexes/base.py:3629\u001b[0m, in \u001b[0;36mIndex.get_loc\u001b[0;34m(self, key, method, tolerance)\u001b[0m\n\u001b[1;32m   3628\u001b[0m \u001b[38;5;28;01mtry\u001b[39;00m:\n\u001b[0;32m-> 3629\u001b[0m     \u001b[38;5;28;01mreturn\u001b[39;00m \u001b[38;5;28;43mself\u001b[39;49m\u001b[38;5;241;43m.\u001b[39;49m\u001b[43m_engine\u001b[49m\u001b[38;5;241;43m.\u001b[39;49m\u001b[43mget_loc\u001b[49m\u001b[43m(\u001b[49m\u001b[43mcasted_key\u001b[49m\u001b[43m)\u001b[49m\n\u001b[1;32m   3630\u001b[0m \u001b[38;5;28;01mexcept\u001b[39;00m \u001b[38;5;167;01mKeyError\u001b[39;00m \u001b[38;5;28;01mas\u001b[39;00m err:\n",
      "File \u001b[0;32m/opt/homebrew/anaconda3/lib/python3.9/site-packages/pandas/_libs/index.pyx:136\u001b[0m, in \u001b[0;36mpandas._libs.index.IndexEngine.get_loc\u001b[0;34m()\u001b[0m\n",
      "File \u001b[0;32m/opt/homebrew/anaconda3/lib/python3.9/site-packages/pandas/_libs/index.pyx:163\u001b[0m, in \u001b[0;36mpandas._libs.index.IndexEngine.get_loc\u001b[0;34m()\u001b[0m\n",
      "File \u001b[0;32mpandas/_libs/hashtable_class_helper.pxi:5198\u001b[0m, in \u001b[0;36mpandas._libs.hashtable.PyObjectHashTable.get_item\u001b[0;34m()\u001b[0m\n",
      "File \u001b[0;32mpandas/_libs/hashtable_class_helper.pxi:5206\u001b[0m, in \u001b[0;36mpandas._libs.hashtable.PyObjectHashTable.get_item\u001b[0;34m()\u001b[0m\n",
      "\u001b[0;31mKeyError\u001b[0m: 'lasso_lars'",
      "\nThe above exception was the direct cause of the following exception:\n",
      "\u001b[0;31mKeyError\u001b[0m                                  Traceback (most recent call last)",
      "Cell \u001b[0;32mIn[90], line 3\u001b[0m\n\u001b[1;32m      1\u001b[0m validate_baseline_rmse \u001b[38;5;241m=\u001b[39m (sqrt(mean_squared_error(validate_preds[\u001b[38;5;124m'\u001b[39m\u001b[38;5;124mactual\u001b[39m\u001b[38;5;124m'\u001b[39m], validate_preds[\u001b[38;5;124m'\u001b[39m\u001b[38;5;124mbaseline\u001b[39m\u001b[38;5;124m'\u001b[39m])))\n\u001b[1;32m      2\u001b[0m validate_linear_rmse \u001b[38;5;241m=\u001b[39m (sqrt(mean_squared_error(validate_preds[\u001b[38;5;124m'\u001b[39m\u001b[38;5;124mactual\u001b[39m\u001b[38;5;124m'\u001b[39m], validate_preds[\u001b[38;5;124m'\u001b[39m\u001b[38;5;124mlinear\u001b[39m\u001b[38;5;124m'\u001b[39m])))\n\u001b[0;32m----> 3\u001b[0m validate_lasso_lars_rmse \u001b[38;5;241m=\u001b[39m (sqrt(mean_squared_error(validate_preds[\u001b[38;5;124m'\u001b[39m\u001b[38;5;124mactual\u001b[39m\u001b[38;5;124m'\u001b[39m], \u001b[43mvalidate_preds\u001b[49m\u001b[43m[\u001b[49m\u001b[38;5;124;43m'\u001b[39;49m\u001b[38;5;124;43mlasso_lars\u001b[39;49m\u001b[38;5;124;43m'\u001b[39;49m\u001b[43m]\u001b[49m)))\n\u001b[1;32m      4\u001b[0m validate_tweedie_rmse \u001b[38;5;241m=\u001b[39m (sqrt(mean_squared_error(validate_preds[\u001b[38;5;124m'\u001b[39m\u001b[38;5;124mactual\u001b[39m\u001b[38;5;124m'\u001b[39m], validate_preds[\u001b[38;5;124m'\u001b[39m\u001b[38;5;124mTweedie\u001b[39m\u001b[38;5;124m'\u001b[39m])))\n",
      "File \u001b[0;32m/opt/homebrew/anaconda3/lib/python3.9/site-packages/pandas/core/frame.py:3505\u001b[0m, in \u001b[0;36mDataFrame.__getitem__\u001b[0;34m(self, key)\u001b[0m\n\u001b[1;32m   3503\u001b[0m \u001b[38;5;28;01mif\u001b[39;00m \u001b[38;5;28mself\u001b[39m\u001b[38;5;241m.\u001b[39mcolumns\u001b[38;5;241m.\u001b[39mnlevels \u001b[38;5;241m>\u001b[39m \u001b[38;5;241m1\u001b[39m:\n\u001b[1;32m   3504\u001b[0m     \u001b[38;5;28;01mreturn\u001b[39;00m \u001b[38;5;28mself\u001b[39m\u001b[38;5;241m.\u001b[39m_getitem_multilevel(key)\n\u001b[0;32m-> 3505\u001b[0m indexer \u001b[38;5;241m=\u001b[39m \u001b[38;5;28;43mself\u001b[39;49m\u001b[38;5;241;43m.\u001b[39;49m\u001b[43mcolumns\u001b[49m\u001b[38;5;241;43m.\u001b[39;49m\u001b[43mget_loc\u001b[49m\u001b[43m(\u001b[49m\u001b[43mkey\u001b[49m\u001b[43m)\u001b[49m\n\u001b[1;32m   3506\u001b[0m \u001b[38;5;28;01mif\u001b[39;00m is_integer(indexer):\n\u001b[1;32m   3507\u001b[0m     indexer \u001b[38;5;241m=\u001b[39m [indexer]\n",
      "File \u001b[0;32m/opt/homebrew/anaconda3/lib/python3.9/site-packages/pandas/core/indexes/base.py:3631\u001b[0m, in \u001b[0;36mIndex.get_loc\u001b[0;34m(self, key, method, tolerance)\u001b[0m\n\u001b[1;32m   3629\u001b[0m     \u001b[38;5;28;01mreturn\u001b[39;00m \u001b[38;5;28mself\u001b[39m\u001b[38;5;241m.\u001b[39m_engine\u001b[38;5;241m.\u001b[39mget_loc(casted_key)\n\u001b[1;32m   3630\u001b[0m \u001b[38;5;28;01mexcept\u001b[39;00m \u001b[38;5;167;01mKeyError\u001b[39;00m \u001b[38;5;28;01mas\u001b[39;00m err:\n\u001b[0;32m-> 3631\u001b[0m     \u001b[38;5;28;01mraise\u001b[39;00m \u001b[38;5;167;01mKeyError\u001b[39;00m(key) \u001b[38;5;28;01mfrom\u001b[39;00m \u001b[38;5;21;01merr\u001b[39;00m\n\u001b[1;32m   3632\u001b[0m \u001b[38;5;28;01mexcept\u001b[39;00m \u001b[38;5;167;01mTypeError\u001b[39;00m:\n\u001b[1;32m   3633\u001b[0m     \u001b[38;5;66;03m# If we have a listlike key, _check_indexing_error will raise\u001b[39;00m\n\u001b[1;32m   3634\u001b[0m     \u001b[38;5;66;03m#  InvalidIndexError. Otherwise we fall through and re-raise\u001b[39;00m\n\u001b[1;32m   3635\u001b[0m     \u001b[38;5;66;03m#  the TypeError.\u001b[39;00m\n\u001b[1;32m   3636\u001b[0m     \u001b[38;5;28mself\u001b[39m\u001b[38;5;241m.\u001b[39m_check_indexing_error(key)\n",
      "\u001b[0;31mKeyError\u001b[0m: 'lasso_lars'"
     ]
    }
   ],
   "source": [
    "validate_baseline_rmse = (sqrt(mean_squared_error(validate_preds['actual'], validate_preds['baseline'])))\n",
    "validate_linear_rmse = (sqrt(mean_squared_error(validate_preds['actual'], validate_preds['linear'])))\n",
    "validate_lasso_lars_rmse = (sqrt(mean_squared_error(validate_preds['actual'], validate_preds['lasso_lars'])))\n",
    "validate_tweedie_rmse = (sqrt(mean_squared_error(validate_preds['actual'], validate_preds['Tweedie'])))"
   ]
  },
  {
   "cell_type": "markdown",
   "id": "db7fb14a",
   "metadata": {},
   "source": [
    "# Test"
   ]
  },
  {
   "cell_type": "markdown",
   "id": "739a5497",
   "metadata": {},
   "source": [
    "[Imports](#imports) - [Definitions](#definitions) - [Acquire](#acquire) - [Explore](#explore)  -  [Model](#model)  -  [Evaluate](#evaluate)  -  [Test](#test)  -  [Summary](#summary)  -  [Take Aways](#takeaways)"
   ]
  },
  {
   "cell_type": "markdown",
   "id": "d993984d",
   "metadata": {},
   "source": [
    "### Modeling Summary\n",
    "\n",
    "* Out of the Linear Regression, Lasso Lars, and Tweedie Regressor models Tweedie Regressor performed better than baseline on train and validate\n",
    "* The Logistic Regression model performed slightly better on validate data but was worse than baseline on either one."
   ]
  }
 ],
 "metadata": {
  "kernelspec": {
   "display_name": "Python 3 (ipykernel)",
   "language": "python",
   "name": "python3"
  },
  "language_info": {
   "codemirror_mode": {
    "name": "ipython",
    "version": 3
   },
   "file_extension": ".py",
   "mimetype": "text/x-python",
   "name": "python",
   "nbconvert_exporter": "python",
   "pygments_lexer": "ipython3",
   "version": "3.9.15"
  }
 },
 "nbformat": 4,
 "nbformat_minor": 5
}

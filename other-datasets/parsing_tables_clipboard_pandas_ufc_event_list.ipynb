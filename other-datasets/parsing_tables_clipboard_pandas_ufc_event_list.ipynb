{
 "cells": [
  {
   "cell_type": "markdown",
   "id": "1f78b303",
   "metadata": {},
   "source": [
    "Past events\n",
    "# \tEvent \tDate \tVenue \tLocation \tAttendance \tRef.\n",
    "635 \tUFC 284: Makhachev vs. Volkanovski \tFeb 12, 2023 \tRAC Arena \tPerth, Australia \t14,124 \t\n",
    "634 \tUFC Fight Night: Lewis vs. Spivak \tFeb 4, 2023 \tUFC Apex \tLas Vegas, Nevada, U.S. \t— \t[21]\n",
    "633 \tUFC 283: Teixeira vs. Hill \tJan 21, 2023 \tJeunesse Arena \tRio de Janeiro, Brazil \t13,604 \t[22]\n",
    "632 \tUFC Fight Night: Strickland vs. Imavov \tJan 14, 2023 \tUFC Apex \tLas Vegas, Nevada, U.S. \t— \t[23]\n",
    "631 \tUFC Fight Night: Cannonier vs. Strickland \tDec 17, 2022 \t[24]\n",
    "630 \tUFC 282: Błachowicz vs. Ankalaev \tDec 10, 2022 \tT-Mobile Arena \t18,455 \t[25]\n",
    "629 \tUFC on ESPN: Thompson vs. Holland \tDec 3, 2022 \tAmway Center \tOrlando, Florida, U.S. \t17,065 \t[26]\n",
    "628 \tUFC Fight Night: Nzechukwu vs. Cuțelaba \tNov 19, 2022 \tUFC Apex \tLas Vegas, Nevada, U.S. \t— \t[27]\n",
    "627 \tUFC 281: Adesanya vs. Pereira \tNov 12, 2022 \tMadison Square Garden \tNew York City, New York, U.S. \t20,845 \t[28]"
   ]
  },
  {
   "cell_type": "code",
   "execution_count": 45,
   "id": "2d0cb1f2",
   "metadata": {},
   "outputs": [],
   "source": [
    "import numpy as np\n",
    "import pandas as pd"
   ]
  },
  {
   "cell_type": "code",
   "execution_count": null,
   "id": "f2cce7a5",
   "metadata": {},
   "outputs": [],
   "source": [
    "# pandas.read_csv(filename, sep='\\t', lineterminator='\\r')"
   ]
  },
  {
   "cell_type": "code",
   "execution_count": 26,
   "id": "e4f8be0d",
   "metadata": {},
   "outputs": [],
   "source": [
    "df = pd.read_clipboard(sep='\\t')"
   ]
  },
  {
   "cell_type": "markdown",
   "id": "05a2240e",
   "metadata": {},
   "source": [
    "# No Column Names"
   ]
  },
  {
   "cell_type": "code",
   "execution_count": 31,
   "id": "7ac6313e",
   "metadata": {},
   "outputs": [
    {
     "data": {
      "text/html": [
       "<div>\n",
       "<style scoped>\n",
       "    .dataframe tbody tr th:only-of-type {\n",
       "        vertical-align: middle;\n",
       "    }\n",
       "\n",
       "    .dataframe tbody tr th {\n",
       "        vertical-align: top;\n",
       "    }\n",
       "\n",
       "    .dataframe thead th {\n",
       "        text-align: right;\n",
       "    }\n",
       "</style>\n",
       "<table border=\"1\" class=\"dataframe\">\n",
       "  <thead>\n",
       "    <tr style=\"text-align: right;\">\n",
       "      <th></th>\n",
       "      <th>635</th>\n",
       "      <th>UFC 284: Makhachev vs. Volkanovski</th>\n",
       "      <th>Feb 12, 2023</th>\n",
       "      <th>RAC Arena</th>\n",
       "      <th>Perth, Australia</th>\n",
       "      <th>14,124</th>\n",
       "      <th>Unnamed: 6</th>\n",
       "    </tr>\n",
       "  </thead>\n",
       "  <tbody>\n",
       "    <tr>\n",
       "      <th>0</th>\n",
       "      <td>634</td>\n",
       "      <td>UFC Fight Night: Lewis vs. Spivak</td>\n",
       "      <td>Feb 4, 2023</td>\n",
       "      <td>UFC Apex</td>\n",
       "      <td>Las Vegas, Nevada, U.S.</td>\n",
       "      <td>—</td>\n",
       "      <td>[21]</td>\n",
       "    </tr>\n",
       "    <tr>\n",
       "      <th>1</th>\n",
       "      <td>633</td>\n",
       "      <td>UFC 283: Teixeira vs. Hill</td>\n",
       "      <td>Jan 21, 2023</td>\n",
       "      <td>Jeunesse Arena</td>\n",
       "      <td>Rio de Janeiro, Brazil</td>\n",
       "      <td>13,604</td>\n",
       "      <td>[22]</td>\n",
       "    </tr>\n",
       "    <tr>\n",
       "      <th>2</th>\n",
       "      <td>632</td>\n",
       "      <td>UFC Fight Night: Strickland vs. Imavov</td>\n",
       "      <td>Jan 14, 2023</td>\n",
       "      <td>UFC Apex</td>\n",
       "      <td>Las Vegas, Nevada, U.S.</td>\n",
       "      <td>—</td>\n",
       "      <td>[23]</td>\n",
       "    </tr>\n",
       "    <tr>\n",
       "      <th>3</th>\n",
       "      <td>631</td>\n",
       "      <td>UFC Fight Night: Cannonier vs. Strickland</td>\n",
       "      <td>Dec 17, 2022</td>\n",
       "      <td>[24]</td>\n",
       "      <td>NaN</td>\n",
       "      <td>NaN</td>\n",
       "      <td>NaN</td>\n",
       "    </tr>\n",
       "    <tr>\n",
       "      <th>4</th>\n",
       "      <td>630</td>\n",
       "      <td>UFC 282: Błachowicz vs. Ankalaev</td>\n",
       "      <td>Dec 10, 2022</td>\n",
       "      <td>T-Mobile Arena</td>\n",
       "      <td>18,455</td>\n",
       "      <td>[25]</td>\n",
       "      <td>NaN</td>\n",
       "    </tr>\n",
       "    <tr>\n",
       "      <th>5</th>\n",
       "      <td>629</td>\n",
       "      <td>UFC on ESPN: Thompson vs. Holland</td>\n",
       "      <td>Dec 3, 2022</td>\n",
       "      <td>Amway Center</td>\n",
       "      <td>Orlando, Florida, U.S.</td>\n",
       "      <td>17,065</td>\n",
       "      <td>[26]</td>\n",
       "    </tr>\n",
       "    <tr>\n",
       "      <th>6</th>\n",
       "      <td>628</td>\n",
       "      <td>UFC Fight Night: Nzechukwu vs. Cuțelaba</td>\n",
       "      <td>Nov 19, 2022</td>\n",
       "      <td>UFC Apex</td>\n",
       "      <td>Las Vegas, Nevada, U.S.</td>\n",
       "      <td>—</td>\n",
       "      <td>[27]</td>\n",
       "    </tr>\n",
       "    <tr>\n",
       "      <th>7</th>\n",
       "      <td>627</td>\n",
       "      <td>UFC 281: Adesanya vs. Pereira</td>\n",
       "      <td>Nov 12, 2022</td>\n",
       "      <td>Madison Square Garden</td>\n",
       "      <td>New York City, New York, U.S.</td>\n",
       "      <td>20,845</td>\n",
       "      <td>[28]</td>\n",
       "    </tr>\n",
       "  </tbody>\n",
       "</table>\n",
       "</div>"
      ],
      "text/plain": [
       "   635          UFC 284: Makhachev vs. Volkanovski   Feb 12, 2023   \\\n",
       "0   634          UFC Fight Night: Lewis vs. Spivak    Feb 4, 2023    \n",
       "1   633                 UFC 283: Teixeira vs. Hill   Jan 21, 2023    \n",
       "2   632     UFC Fight Night: Strickland vs. Imavov   Jan 14, 2023    \n",
       "3   631  UFC Fight Night: Cannonier vs. Strickland   Dec 17, 2022    \n",
       "4   630           UFC 282: Błachowicz vs. Ankalaev   Dec 10, 2022    \n",
       "5   629          UFC on ESPN: Thompson vs. Holland    Dec 3, 2022    \n",
       "6   628    UFC Fight Night: Nzechukwu vs. Cuțelaba   Nov 19, 2022    \n",
       "7   627              UFC 281: Adesanya vs. Pereira   Nov 12, 2022    \n",
       "\n",
       "               RAC Arena                Perth, Australia   14,124  Unnamed: 6  \n",
       "0               UFC Apex         Las Vegas, Nevada, U.S.        —        [21]  \n",
       "1         Jeunesse Arena          Rio de Janeiro, Brazil   13,604        [22]  \n",
       "2               UFC Apex         Las Vegas, Nevada, U.S.        —        [23]  \n",
       "3                    [24]                             NaN      NaN        NaN  \n",
       "4         T-Mobile Arena                          18,455      [25]        NaN  \n",
       "5           Amway Center          Orlando, Florida, U.S.   17,065        [26]  \n",
       "6               UFC Apex         Las Vegas, Nevada, U.S.        —        [27]  \n",
       "7  Madison Square Garden   New York City, New York, U.S.   20,845        [28]  "
      ]
     },
     "execution_count": 31,
     "metadata": {},
     "output_type": "execute_result"
    }
   ],
   "source": [
    "df"
   ]
  },
  {
   "cell_type": "markdown",
   "id": "6cb15260",
   "metadata": {},
   "source": [
    "# Saving Old Row Data = Incorrectly Set as Column Names"
   ]
  },
  {
   "cell_type": "code",
   "execution_count": 29,
   "id": "c932c18a",
   "metadata": {},
   "outputs": [],
   "source": [
    "old_row = df.columns"
   ]
  },
  {
   "cell_type": "code",
   "execution_count": 43,
   "id": "689a9d80",
   "metadata": {},
   "outputs": [
    {
     "data": {
      "text/plain": [
       "Index(['635 ', 'UFC 284: Makhachev vs. Volkanovski ', 'Feb 12, 2023 ',\n",
       "       'RAC Arena ', 'Perth, Australia ', '14,124 ', 'Unnamed: 6'],\n",
       "      dtype='object')"
      ]
     },
     "execution_count": 43,
     "metadata": {},
     "output_type": "execute_result"
    }
   ],
   "source": [
    "old_row"
   ]
  },
  {
   "cell_type": "markdown",
   "id": "a7352416",
   "metadata": {},
   "source": [
    "# Renaming \"Column\" Names"
   ]
  },
  {
   "cell_type": "code",
   "execution_count": 32,
   "id": "1047ab24",
   "metadata": {},
   "outputs": [],
   "source": [
    "df.columns = ['Chrono','Event','Date','Venue','Location','Attendance','Ref']"
   ]
  },
  {
   "cell_type": "code",
   "execution_count": 33,
   "id": "7586cbab",
   "metadata": {},
   "outputs": [
    {
     "data": {
      "text/html": [
       "<div>\n",
       "<style scoped>\n",
       "    .dataframe tbody tr th:only-of-type {\n",
       "        vertical-align: middle;\n",
       "    }\n",
       "\n",
       "    .dataframe tbody tr th {\n",
       "        vertical-align: top;\n",
       "    }\n",
       "\n",
       "    .dataframe thead th {\n",
       "        text-align: right;\n",
       "    }\n",
       "</style>\n",
       "<table border=\"1\" class=\"dataframe\">\n",
       "  <thead>\n",
       "    <tr style=\"text-align: right;\">\n",
       "      <th></th>\n",
       "      <th>Chrono</th>\n",
       "      <th>Event</th>\n",
       "      <th>Date</th>\n",
       "      <th>Venue</th>\n",
       "      <th>Location</th>\n",
       "      <th>Attendance</th>\n",
       "      <th>Ref</th>\n",
       "    </tr>\n",
       "  </thead>\n",
       "  <tbody>\n",
       "    <tr>\n",
       "      <th>0</th>\n",
       "      <td>634</td>\n",
       "      <td>UFC Fight Night: Lewis vs. Spivak</td>\n",
       "      <td>Feb 4, 2023</td>\n",
       "      <td>UFC Apex</td>\n",
       "      <td>Las Vegas, Nevada, U.S.</td>\n",
       "      <td>—</td>\n",
       "      <td>[21]</td>\n",
       "    </tr>\n",
       "    <tr>\n",
       "      <th>1</th>\n",
       "      <td>633</td>\n",
       "      <td>UFC 283: Teixeira vs. Hill</td>\n",
       "      <td>Jan 21, 2023</td>\n",
       "      <td>Jeunesse Arena</td>\n",
       "      <td>Rio de Janeiro, Brazil</td>\n",
       "      <td>13,604</td>\n",
       "      <td>[22]</td>\n",
       "    </tr>\n",
       "    <tr>\n",
       "      <th>2</th>\n",
       "      <td>632</td>\n",
       "      <td>UFC Fight Night: Strickland vs. Imavov</td>\n",
       "      <td>Jan 14, 2023</td>\n",
       "      <td>UFC Apex</td>\n",
       "      <td>Las Vegas, Nevada, U.S.</td>\n",
       "      <td>—</td>\n",
       "      <td>[23]</td>\n",
       "    </tr>\n",
       "    <tr>\n",
       "      <th>3</th>\n",
       "      <td>631</td>\n",
       "      <td>UFC Fight Night: Cannonier vs. Strickland</td>\n",
       "      <td>Dec 17, 2022</td>\n",
       "      <td>[24]</td>\n",
       "      <td>NaN</td>\n",
       "      <td>NaN</td>\n",
       "      <td>NaN</td>\n",
       "    </tr>\n",
       "    <tr>\n",
       "      <th>4</th>\n",
       "      <td>630</td>\n",
       "      <td>UFC 282: Błachowicz vs. Ankalaev</td>\n",
       "      <td>Dec 10, 2022</td>\n",
       "      <td>T-Mobile Arena</td>\n",
       "      <td>18,455</td>\n",
       "      <td>[25]</td>\n",
       "      <td>NaN</td>\n",
       "    </tr>\n",
       "    <tr>\n",
       "      <th>5</th>\n",
       "      <td>629</td>\n",
       "      <td>UFC on ESPN: Thompson vs. Holland</td>\n",
       "      <td>Dec 3, 2022</td>\n",
       "      <td>Amway Center</td>\n",
       "      <td>Orlando, Florida, U.S.</td>\n",
       "      <td>17,065</td>\n",
       "      <td>[26]</td>\n",
       "    </tr>\n",
       "    <tr>\n",
       "      <th>6</th>\n",
       "      <td>628</td>\n",
       "      <td>UFC Fight Night: Nzechukwu vs. Cuțelaba</td>\n",
       "      <td>Nov 19, 2022</td>\n",
       "      <td>UFC Apex</td>\n",
       "      <td>Las Vegas, Nevada, U.S.</td>\n",
       "      <td>—</td>\n",
       "      <td>[27]</td>\n",
       "    </tr>\n",
       "    <tr>\n",
       "      <th>7</th>\n",
       "      <td>627</td>\n",
       "      <td>UFC 281: Adesanya vs. Pereira</td>\n",
       "      <td>Nov 12, 2022</td>\n",
       "      <td>Madison Square Garden</td>\n",
       "      <td>New York City, New York, U.S.</td>\n",
       "      <td>20,845</td>\n",
       "      <td>[28]</td>\n",
       "    </tr>\n",
       "  </tbody>\n",
       "</table>\n",
       "</div>"
      ],
      "text/plain": [
       "   Chrono                                       Event           Date  \\\n",
       "0     634          UFC Fight Night: Lewis vs. Spivak    Feb 4, 2023    \n",
       "1     633                 UFC 283: Teixeira vs. Hill   Jan 21, 2023    \n",
       "2     632     UFC Fight Night: Strickland vs. Imavov   Jan 14, 2023    \n",
       "3     631  UFC Fight Night: Cannonier vs. Strickland   Dec 17, 2022    \n",
       "4     630           UFC 282: Błachowicz vs. Ankalaev   Dec 10, 2022    \n",
       "5     629          UFC on ESPN: Thompson vs. Holland    Dec 3, 2022    \n",
       "6     628    UFC Fight Night: Nzechukwu vs. Cuțelaba   Nov 19, 2022    \n",
       "7     627              UFC 281: Adesanya vs. Pereira   Nov 12, 2022    \n",
       "\n",
       "                    Venue                        Location Attendance   Ref  \n",
       "0               UFC Apex         Las Vegas, Nevada, U.S.          —   [21]  \n",
       "1         Jeunesse Arena          Rio de Janeiro, Brazil     13,604   [22]  \n",
       "2               UFC Apex         Las Vegas, Nevada, U.S.          —   [23]  \n",
       "3                    [24]                             NaN        NaN   NaN  \n",
       "4         T-Mobile Arena                          18,455        [25]   NaN  \n",
       "5           Amway Center          Orlando, Florida, U.S.     17,065   [26]  \n",
       "6               UFC Apex         Las Vegas, Nevada, U.S.          —   [27]  \n",
       "7  Madison Square Garden   New York City, New York, U.S.     20,845   [28]  "
      ]
     },
     "execution_count": 33,
     "metadata": {},
     "output_type": "execute_result"
    }
   ],
   "source": [
    "df"
   ]
  },
  {
   "cell_type": "markdown",
   "id": "31e9a8c4",
   "metadata": {},
   "source": [
    "# Inserting Old Row Back To Top"
   ]
  },
  {
   "cell_type": "code",
   "execution_count": 37,
   "id": "e12d27cb",
   "metadata": {},
   "outputs": [],
   "source": [
    "df.loc[-1] = old_row  # adding a row\n",
    "df.index = df.index + 1  # shifting index\n",
    "df.sort_index(inplace=True) "
   ]
  },
  {
   "cell_type": "markdown",
   "id": "14d61ea5",
   "metadata": {},
   "source": [
    "# Done"
   ]
  },
  {
   "cell_type": "code",
   "execution_count": 38,
   "id": "4cf7659c",
   "metadata": {},
   "outputs": [
    {
     "data": {
      "text/html": [
       "<div>\n",
       "<style scoped>\n",
       "    .dataframe tbody tr th:only-of-type {\n",
       "        vertical-align: middle;\n",
       "    }\n",
       "\n",
       "    .dataframe tbody tr th {\n",
       "        vertical-align: top;\n",
       "    }\n",
       "\n",
       "    .dataframe thead th {\n",
       "        text-align: right;\n",
       "    }\n",
       "</style>\n",
       "<table border=\"1\" class=\"dataframe\">\n",
       "  <thead>\n",
       "    <tr style=\"text-align: right;\">\n",
       "      <th></th>\n",
       "      <th>Chrono</th>\n",
       "      <th>Event</th>\n",
       "      <th>Date</th>\n",
       "      <th>Venue</th>\n",
       "      <th>Location</th>\n",
       "      <th>Attendance</th>\n",
       "      <th>Ref</th>\n",
       "    </tr>\n",
       "  </thead>\n",
       "  <tbody>\n",
       "    <tr>\n",
       "      <th>0</th>\n",
       "      <td>635</td>\n",
       "      <td>UFC 284: Makhachev vs. Volkanovski</td>\n",
       "      <td>Feb 12, 2023</td>\n",
       "      <td>RAC Arena</td>\n",
       "      <td>Perth, Australia</td>\n",
       "      <td>14,124</td>\n",
       "      <td>Unnamed: 6</td>\n",
       "    </tr>\n",
       "    <tr>\n",
       "      <th>1</th>\n",
       "      <td>634</td>\n",
       "      <td>UFC Fight Night: Lewis vs. Spivak</td>\n",
       "      <td>Feb 4, 2023</td>\n",
       "      <td>UFC Apex</td>\n",
       "      <td>Las Vegas, Nevada, U.S.</td>\n",
       "      <td>—</td>\n",
       "      <td>[21]</td>\n",
       "    </tr>\n",
       "    <tr>\n",
       "      <th>2</th>\n",
       "      <td>633</td>\n",
       "      <td>UFC 283: Teixeira vs. Hill</td>\n",
       "      <td>Jan 21, 2023</td>\n",
       "      <td>Jeunesse Arena</td>\n",
       "      <td>Rio de Janeiro, Brazil</td>\n",
       "      <td>13,604</td>\n",
       "      <td>[22]</td>\n",
       "    </tr>\n",
       "    <tr>\n",
       "      <th>3</th>\n",
       "      <td>632</td>\n",
       "      <td>UFC Fight Night: Strickland vs. Imavov</td>\n",
       "      <td>Jan 14, 2023</td>\n",
       "      <td>UFC Apex</td>\n",
       "      <td>Las Vegas, Nevada, U.S.</td>\n",
       "      <td>—</td>\n",
       "      <td>[23]</td>\n",
       "    </tr>\n",
       "    <tr>\n",
       "      <th>4</th>\n",
       "      <td>631</td>\n",
       "      <td>UFC Fight Night: Cannonier vs. Strickland</td>\n",
       "      <td>Dec 17, 2022</td>\n",
       "      <td>[24]</td>\n",
       "      <td>NaN</td>\n",
       "      <td>NaN</td>\n",
       "      <td>NaN</td>\n",
       "    </tr>\n",
       "    <tr>\n",
       "      <th>5</th>\n",
       "      <td>630</td>\n",
       "      <td>UFC 282: Błachowicz vs. Ankalaev</td>\n",
       "      <td>Dec 10, 2022</td>\n",
       "      <td>T-Mobile Arena</td>\n",
       "      <td>18,455</td>\n",
       "      <td>[25]</td>\n",
       "      <td>NaN</td>\n",
       "    </tr>\n",
       "    <tr>\n",
       "      <th>6</th>\n",
       "      <td>629</td>\n",
       "      <td>UFC on ESPN: Thompson vs. Holland</td>\n",
       "      <td>Dec 3, 2022</td>\n",
       "      <td>Amway Center</td>\n",
       "      <td>Orlando, Florida, U.S.</td>\n",
       "      <td>17,065</td>\n",
       "      <td>[26]</td>\n",
       "    </tr>\n",
       "    <tr>\n",
       "      <th>7</th>\n",
       "      <td>628</td>\n",
       "      <td>UFC Fight Night: Nzechukwu vs. Cuțelaba</td>\n",
       "      <td>Nov 19, 2022</td>\n",
       "      <td>UFC Apex</td>\n",
       "      <td>Las Vegas, Nevada, U.S.</td>\n",
       "      <td>—</td>\n",
       "      <td>[27]</td>\n",
       "    </tr>\n",
       "    <tr>\n",
       "      <th>8</th>\n",
       "      <td>627</td>\n",
       "      <td>UFC 281: Adesanya vs. Pereira</td>\n",
       "      <td>Nov 12, 2022</td>\n",
       "      <td>Madison Square Garden</td>\n",
       "      <td>New York City, New York, U.S.</td>\n",
       "      <td>20,845</td>\n",
       "      <td>[28]</td>\n",
       "    </tr>\n",
       "  </tbody>\n",
       "</table>\n",
       "</div>"
      ],
      "text/plain": [
       "  Chrono                                       Event           Date  \\\n",
       "0   635          UFC 284: Makhachev vs. Volkanovski   Feb 12, 2023    \n",
       "1    634          UFC Fight Night: Lewis vs. Spivak    Feb 4, 2023    \n",
       "2    633                 UFC 283: Teixeira vs. Hill   Jan 21, 2023    \n",
       "3    632     UFC Fight Night: Strickland vs. Imavov   Jan 14, 2023    \n",
       "4    631  UFC Fight Night: Cannonier vs. Strickland   Dec 17, 2022    \n",
       "5    630           UFC 282: Błachowicz vs. Ankalaev   Dec 10, 2022    \n",
       "6    629          UFC on ESPN: Thompson vs. Holland    Dec 3, 2022    \n",
       "7    628    UFC Fight Night: Nzechukwu vs. Cuțelaba   Nov 19, 2022    \n",
       "8    627              UFC 281: Adesanya vs. Pereira   Nov 12, 2022    \n",
       "\n",
       "                    Venue                        Location Attendance  \\\n",
       "0              RAC Arena                Perth, Australia     14,124    \n",
       "1               UFC Apex         Las Vegas, Nevada, U.S.          —    \n",
       "2         Jeunesse Arena          Rio de Janeiro, Brazil     13,604    \n",
       "3               UFC Apex         Las Vegas, Nevada, U.S.          —    \n",
       "4                    [24]                             NaN        NaN   \n",
       "5         T-Mobile Arena                          18,455        [25]   \n",
       "6           Amway Center          Orlando, Florida, U.S.     17,065    \n",
       "7               UFC Apex         Las Vegas, Nevada, U.S.          —    \n",
       "8  Madison Square Garden   New York City, New York, U.S.     20,845    \n",
       "\n",
       "          Ref  \n",
       "0  Unnamed: 6  \n",
       "1        [21]  \n",
       "2        [22]  \n",
       "3        [23]  \n",
       "4         NaN  \n",
       "5         NaN  \n",
       "6        [26]  \n",
       "7        [27]  \n",
       "8        [28]  "
      ]
     },
     "execution_count": 38,
     "metadata": {},
     "output_type": "execute_result"
    }
   ],
   "source": [
    "df"
   ]
  },
  {
   "cell_type": "code",
   "execution_count": 42,
   "id": "e539a53c",
   "metadata": {},
   "outputs": [
    {
     "data": {
      "text/plain": [
       "['UFC 284: Makhachev vs. Volkanovski ',\n",
       " 'UFC Fight Night: Lewis vs. Spivak ',\n",
       " 'UFC 283: Teixeira vs. Hill ',\n",
       " 'UFC Fight Night: Strickland vs. Imavov ',\n",
       " 'UFC Fight Night: Cannonier vs. Strickland ',\n",
       " 'UFC 282: Błachowicz vs. Ankalaev ',\n",
       " 'UFC on ESPN: Thompson vs. Holland ',\n",
       " 'UFC Fight Night: Nzechukwu vs. Cuțelaba ',\n",
       " 'UFC 281: Adesanya vs. Pereira ']"
      ]
     },
     "execution_count": 42,
     "metadata": {},
     "output_type": "execute_result"
    }
   ],
   "source": [
    "list(df['Event'])"
   ]
  },
  {
   "cell_type": "code",
   "execution_count": 41,
   "id": "39ed9500",
   "metadata": {},
   "outputs": [
    {
     "name": "stdout",
     "output_type": "stream",
     "text": [
      "UFC 284: Makhachev vs. Volkanovski \n",
      "UFC Fight Night: Lewis vs. Spivak \n",
      "UFC 283: Teixeira vs. Hill \n",
      "UFC Fight Night: Strickland vs. Imavov \n",
      "UFC Fight Night: Cannonier vs. Strickland \n",
      "UFC 282: Błachowicz vs. Ankalaev \n",
      "UFC on ESPN: Thompson vs. Holland \n",
      "UFC Fight Night: Nzechukwu vs. Cuțelaba \n",
      "UFC 281: Adesanya vs. Pereira \n"
     ]
    }
   ],
   "source": [
    "for event in (df['Event'].to_list()):\n",
    "    print(event)"
   ]
  },
  {
   "cell_type": "code",
   "execution_count": 46,
   "id": "60bd26c7",
   "metadata": {},
   "outputs": [],
   "source": [
    "np.random.seed(0)\n",
    "\n",
    "# create a list of random numbers between 0 and 1 for each row\n",
    "rand_nums = np.random.rand(len(df))\n",
    "\n",
    "# create the train, validation, and test boolean masks \n",
    "# based on the random numbers compared to percent range\n",
    "train_mask = rand_nums < 0.6\n",
    "val_mask = (rand_nums >= 0.6) & (rand_nums < 0.8)\n",
    "test_mask = rand_nums >= 0.8"
   ]
  },
  {
   "cell_type": "code",
   "execution_count": 49,
   "id": "aea2491a",
   "metadata": {},
   "outputs": [],
   "source": [
    "# use masks to create train,val,test subsets\n",
    "df_train = df[train_mask]\n",
    "df_val = df[val_mask]\n",
    "df_test = df[test_mask]"
   ]
  },
  {
   "cell_type": "code",
   "execution_count": 95,
   "id": "9b04836d",
   "metadata": {},
   "outputs": [
    {
     "data": {
      "text/plain": [
       "(9, 7)"
      ]
     },
     "execution_count": 95,
     "metadata": {},
     "output_type": "execute_result"
    }
   ],
   "source": [
    "df.shape"
   ]
  },
  {
   "cell_type": "code",
   "execution_count": 54,
   "id": "d324bb1a",
   "metadata": {},
   "outputs": [
    {
     "data": {
      "text/plain": [
       "((4, 7), (3, 7), (2, 7))"
      ]
     },
     "execution_count": 54,
     "metadata": {},
     "output_type": "execute_result"
    }
   ],
   "source": [
    "df_train.shape,df_val.shape,df_test.shape"
   ]
  },
  {
   "cell_type": "code",
   "execution_count": 61,
   "id": "218a81c6",
   "metadata": {},
   "outputs": [],
   "source": [
    "df_train_percent = round((df_train.shape[0]/df.shape[0])*100,2)"
   ]
  },
  {
   "cell_type": "code",
   "execution_count": 62,
   "id": "66c7b606",
   "metadata": {},
   "outputs": [],
   "source": [
    "df_validate_percent = round((df_val.shape[0]/df.shape[0])*100,2)"
   ]
  },
  {
   "cell_type": "code",
   "execution_count": 63,
   "id": "4efca4fc",
   "metadata": {},
   "outputs": [],
   "source": [
    "df_test_percent = round((df_test.shape[0]/df.shape[0])*100,2)"
   ]
  },
  {
   "cell_type": "code",
   "execution_count": 65,
   "id": "c6b0996e",
   "metadata": {},
   "outputs": [],
   "source": [
    "percent_output_info = [\"Train DF\",\"Validate DF\",\"Test DF\"]"
   ]
  },
  {
   "cell_type": "code",
   "execution_count": 67,
   "id": "61fafd91",
   "metadata": {},
   "outputs": [],
   "source": [
    "size_longest_name = len((max((percent_output_info), key = len)))"
   ]
  },
  {
   "cell_type": "code",
   "execution_count": 94,
   "id": "c4a99dbe",
   "metadata": {},
   "outputs": [
    {
     "name": "stdout",
     "output_type": "stream",
     "text": [
      "Train DF    : 44.44%\n",
      "Validate DF : 33.33%\n",
      "Test DF     : 22.22%\n",
      "----------- : ------\n",
      "            : 99.99\n"
     ]
    }
   ],
   "source": [
    "print(f\"{percent_output_info[0]: <{size_longest_name}} : {df_train_percent}%\")\n",
    "print(f\"{percent_output_info[1]: <{size_longest_name}} : {df_validate_percent}%\")\n",
    "print(f\"{percent_output_info[2]: <{size_longest_name}} : {df_test_percent}%\")\n",
    "print(f\"{'-'*(size_longest_name)} : {'-'*6}\")\n",
    "print(f\"{' '*(size_longest_name)} : {df_train_percent+df_validate_percent+df_test_percent}\")"
   ]
  },
  {
   "cell_type": "code",
   "execution_count": 97,
   "id": "a2869c99",
   "metadata": {},
   "outputs": [
    {
     "data": {
      "text/plain": [
       "True"
      ]
     },
     "execution_count": 97,
     "metadata": {},
     "output_type": "execute_result"
    }
   ],
   "source": [
    "# testing original df length to sum of all subset df lengths\n",
    "len(df) == (len(df_train)+len(df_val)+len(df_test))"
   ]
  }
 ],
 "metadata": {
  "kernelspec": {
   "display_name": "Python 3 (ipykernel)",
   "language": "python",
   "name": "python3"
  },
  "language_info": {
   "codemirror_mode": {
    "name": "ipython",
    "version": 3
   },
   "file_extension": ".py",
   "mimetype": "text/x-python",
   "name": "python",
   "nbconvert_exporter": "python",
   "pygments_lexer": "ipython3",
   "version": "3.9.15"
  }
 },
 "nbformat": 4,
 "nbformat_minor": 5
}
